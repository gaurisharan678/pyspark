{
 "cells": [
  {
   "cell_type": "code",
   "execution_count": 1,
   "id": "b6684ab6",
   "metadata": {},
   "outputs": [],
   "source": [
    "import pandas as pd"
   ]
  },
  {
   "cell_type": "code",
   "execution_count": 2,
   "id": "9398d511",
   "metadata": {},
   "outputs": [],
   "source": [
    "from pyspark.sql import SparkSession"
   ]
  },
  {
   "cell_type": "code",
   "execution_count": 3,
   "id": "8cf91370",
   "metadata": {},
   "outputs": [],
   "source": [
    "from pyspark.sql.functions import col, desc"
   ]
  },
  {
   "cell_type": "code",
   "execution_count": 4,
   "id": "dbbfc4bc",
   "metadata": {},
   "outputs": [],
   "source": [
    "spark = SparkSession.builder.appName('MyApp').getOrCreate()"
   ]
  },
  {
   "cell_type": "code",
   "execution_count": 5,
   "id": "7cd5763e",
   "metadata": {},
   "outputs": [],
   "source": [
    "df = spark.read.format('csv').\\\n",
    "    option('inferSchema', 'true').\\\n",
    "    option('header', 'true').\\\n",
    "    option('path', 'Assignment 2 - Pyspark.csv').\\\n",
    "    load()"
   ]
  },
  {
   "cell_type": "code",
   "execution_count": 6,
   "id": "a60e4e46",
   "metadata": {
    "scrolled": true
   },
   "outputs": [
    {
     "name": "stdout",
     "output_type": "stream",
     "text": [
      "+---------------+--------------+-----------------+----------+\n",
      "|     ip_address|       Country|      Domain Name|Bytes_used|\n",
      "+---------------+--------------+-----------------+----------+\n",
      "|  52.81.192.172|         China| odnoklassniki.ru|       463|\n",
      "| 119.239.207.13|         China|         youtu.be|        51|\n",
      "|  68.69.217.210|         China|        adobe.com|        10|\n",
      "|   7.191.21.223|      Bulgaria|     linkedin.com|       853|\n",
      "|   211.13.10.68|     Indonesia|          hud.gov|        29|\n",
      "|   239.80.21.97|      Suriname|       smh.com.au|       218|\n",
      "|106.214.106.233|       Jamaica|    amazonaws.com|        95|\n",
      "| 127.242.24.138|         China| surveymonkey.com|       123|\n",
      "|     99.2.6.139|Czech Republic|     geocities.jp|       322|\n",
      "|   237.54.11.63|         China|       amazon.com|        83|\n",
      "| 252.141.157.25|         Japan|      cornell.edu|       374|\n",
      "|185.220.128.248|       Belgium|       weebly.com|       389|\n",
      "|   151.77.19.45|   Afghanistan|independent.co.uk|       282|\n",
      "|  9.161.158.225|     Indonesia|    bloglines.com|       726|\n",
      "| 156.144.61.155|Czech Republic|   slideshare.net|       657|\n",
      "|   8.96.188.151|     Indonesia|          ibm.com|       517|\n",
      "|      5.72.7.65|        Mexico|         youtu.be|       877|\n",
      "|227.110.112.144|       Croatia|         ehow.com|       287|\n",
      "|    81.71.28.97|      Thailand|          last.fm|       588|\n",
      "|  9.255.129.184|      Thailand|          mtv.com|       114|\n",
      "+---------------+--------------+-----------------+----------+\n",
      "only showing top 20 rows\n",
      "\n"
     ]
    }
   ],
   "source": [
    "df.show()"
   ]
  },
  {
   "cell_type": "raw",
   "id": "6e1d04a8",
   "metadata": {},
   "source": [
    "1) Add columns to say 'Yes' or 'No' whether the country is Mexico.\n",
    "2) Group by your new column and sum 'bytes_used'.\n",
    "3)Group by country and use .countDistinct function to calculate number if IP addresses in each country.\n",
    "Sort the coulmn in descending order of number of IP addresses."
   ]
  },
  {
   "cell_type": "code",
   "execution_count": 8,
   "id": "083459ac",
   "metadata": {},
   "outputs": [],
   "source": [
    "from pyspark.sql import SparkSession\n",
    "from pyspark.sql.functions import when"
   ]
  },
  {
   "cell_type": "code",
   "execution_count": 9,
   "id": "f6e11852",
   "metadata": {},
   "outputs": [],
   "source": [
    "df = df.withColumn('Bool', when(df['Country'] == 'Mexico', 'yes').otherwise('no'))"
   ]
  },
  {
   "cell_type": "code",
   "execution_count": 10,
   "id": "5a45b9a3",
   "metadata": {},
   "outputs": [
    {
     "name": "stdout",
     "output_type": "stream",
     "text": [
      "+---------------+--------------+-----------------+----------+----+\n",
      "|     ip_address|       Country|      Domain Name|Bytes_used|Bool|\n",
      "+---------------+--------------+-----------------+----------+----+\n",
      "|  52.81.192.172|         China| odnoklassniki.ru|       463|  no|\n",
      "| 119.239.207.13|         China|         youtu.be|        51|  no|\n",
      "|  68.69.217.210|         China|        adobe.com|        10|  no|\n",
      "|   7.191.21.223|      Bulgaria|     linkedin.com|       853|  no|\n",
      "|   211.13.10.68|     Indonesia|          hud.gov|        29|  no|\n",
      "|   239.80.21.97|      Suriname|       smh.com.au|       218|  no|\n",
      "|106.214.106.233|       Jamaica|    amazonaws.com|        95|  no|\n",
      "| 127.242.24.138|         China| surveymonkey.com|       123|  no|\n",
      "|     99.2.6.139|Czech Republic|     geocities.jp|       322|  no|\n",
      "|   237.54.11.63|         China|       amazon.com|        83|  no|\n",
      "| 252.141.157.25|         Japan|      cornell.edu|       374|  no|\n",
      "|185.220.128.248|       Belgium|       weebly.com|       389|  no|\n",
      "|   151.77.19.45|   Afghanistan|independent.co.uk|       282|  no|\n",
      "|  9.161.158.225|     Indonesia|    bloglines.com|       726|  no|\n",
      "| 156.144.61.155|Czech Republic|   slideshare.net|       657|  no|\n",
      "|   8.96.188.151|     Indonesia|          ibm.com|       517|  no|\n",
      "|      5.72.7.65|        Mexico|         youtu.be|       877| yes|\n",
      "|227.110.112.144|       Croatia|         ehow.com|       287|  no|\n",
      "|    81.71.28.97|      Thailand|          last.fm|       588|  no|\n",
      "|  9.255.129.184|      Thailand|          mtv.com|       114|  no|\n",
      "+---------------+--------------+-----------------+----------+----+\n",
      "only showing top 20 rows\n",
      "\n"
     ]
    }
   ],
   "source": [
    "df.show()"
   ]
  },
  {
   "cell_type": "code",
   "execution_count": 11,
   "id": "50fe6a22",
   "metadata": {},
   "outputs": [
    {
     "name": "stdout",
     "output_type": "stream",
     "text": [
      "+----+---------------+\n",
      "|Bool|sum(Bytes_used)|\n",
      "+----+---------------+\n",
      "|  no|         508076|\n",
      "| yes|           6293|\n",
      "+----+---------------+\n",
      "\n"
     ]
    }
   ],
   "source": [
    "df.groupBy('Bool').sum('Bytes_used').show()"
   ]
  },
  {
   "cell_type": "code",
   "execution_count": 14,
   "id": "461547da",
   "metadata": {},
   "outputs": [],
   "source": [
    "from pyspark.sql.functions import countDistinct"
   ]
  },
  {
   "cell_type": "code",
   "execution_count": 23,
   "id": "45f34177",
   "metadata": {
    "scrolled": true
   },
   "outputs": [
    {
     "name": "stdout",
     "output_type": "stream",
     "text": [
      "+--------------+-------------+\n",
      "|       Country|DistinctCount|\n",
      "+--------------+-------------+\n",
      "|         China|          172|\n",
      "|     Indonesia|          114|\n",
      "|   Philippines|           65|\n",
      "|        Russia|           56|\n",
      "|        Brazil|           35|\n",
      "|        Poland|           31|\n",
      "|        Sweden|           28|\n",
      "|         Japan|           25|\n",
      "|Czech Republic|           23|\n",
      "|      Portugal|           23|\n",
      "|        France|           21|\n",
      "|          Peru|           19|\n",
      "|      Colombia|           17|\n",
      "| United States|           15|\n",
      "|     Argentina|           14|\n",
      "|       Ukraine|           14|\n",
      "|        Mexico|           13|\n",
      "|      Thailand|           12|\n",
      "|       Nigeria|           11|\n",
      "|        Canada|           11|\n",
      "+--------------+-------------+\n",
      "only showing top 20 rows\n",
      "\n"
     ]
    }
   ],
   "source": [
    "df.groupBy(\"Country\").agg(countDistinct(\"ip_address\").alias(\"DistinctCount\")).orderBy(desc('DistinctCount')).show()"
   ]
  },
  {
   "cell_type": "code",
   "execution_count": null,
   "id": "a48239bf",
   "metadata": {},
   "outputs": [],
   "source": []
  }
 ],
 "metadata": {
  "kernelspec": {
   "display_name": "Python 3 (ipykernel)",
   "language": "python",
   "name": "python3"
  },
  "language_info": {
   "codemirror_mode": {
    "name": "ipython",
    "version": 3
   },
   "file_extension": ".py",
   "mimetype": "text/x-python",
   "name": "python",
   "nbconvert_exporter": "python",
   "pygments_lexer": "ipython3",
   "version": "3.10.9"
  }
 },
 "nbformat": 4,
 "nbformat_minor": 5
}
