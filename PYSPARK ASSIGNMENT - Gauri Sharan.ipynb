{
 "cells": [
  {
   "cell_type": "raw",
   "id": "7aa18583",
   "metadata": {},
   "source": [
    "*******************************************************************************\n",
    "Create a CSV file named \"person_data.csv\" with 25 entries under the following column headings:\n",
    "'S.No', 'Name', 'Age', 'Occupation', and 'Education'. \n",
    "After creating the CSV file, initiate a Spark session and use it to read the \"person_data.csv\" file.\n",
    "*******************************************************************************"
   ]
  },
  {
   "cell_type": "code",
   "execution_count": 1,
   "id": "b6684ab6",
   "metadata": {},
   "outputs": [],
   "source": [
    "import pandas as pd"
   ]
  },
  {
   "cell_type": "code",
   "execution_count": 2,
   "id": "9398d511",
   "metadata": {},
   "outputs": [],
   "source": [
    "from pyspark.sql import SparkSession"
   ]
  },
  {
   "cell_type": "code",
   "execution_count": 3,
   "id": "8cf91370",
   "metadata": {},
   "outputs": [],
   "source": [
    "from pyspark.sql.functions import col, desc"
   ]
  },
  {
   "cell_type": "code",
   "execution_count": 4,
   "id": "dbbfc4bc",
   "metadata": {},
   "outputs": [],
   "source": [
    "spark = SparkSession.builder.appName('MyApp').getOrCreate()"
   ]
  },
  {
   "cell_type": "markdown",
   "id": "e19ec130",
   "metadata": {},
   "source": [
    "# Question 1"
   ]
  },
  {
   "cell_type": "raw",
   "id": "2faeb97f",
   "metadata": {},
   "source": [
    "*******************************************************************************\n",
    "Question 1: Filtering and Selecting Data\n",
    "\n",
    "Write PySpark code to perform the following tasks:\n",
    "-> Create a PySpark DataFrame named df using the provided dataset and schema.\n",
    "*******************************************************************************"
   ]
  },
  {
   "cell_type": "code",
   "execution_count": 5,
   "id": "7cd5763e",
   "metadata": {},
   "outputs": [],
   "source": [
    "df = spark.read.format('csv').\\\n",
    "    option('inferSchema', 'true').\\\n",
    "    option('header', 'true').\\\n",
    "    option('path', 'person_data.csv').\\\n",
    "    load()"
   ]
  },
  {
   "cell_type": "code",
   "execution_count": 6,
   "id": "a60e4e46",
   "metadata": {
    "scrolled": true
   },
   "outputs": [
    {
     "name": "stdout",
     "output_type": "stream",
     "text": [
      "+----+--------------------+---+------------------+-------------------+\n",
      "|S.No|                Name|Age|        Occupation|          Education|\n",
      "+----+--------------------+---+------------------+-------------------+\n",
      "|   1|            John Doe| 30|          Engineer|  Bachelor's Degree|\n",
      "|   2|          Jane Smith| 25|           Teacher|    Master's Degree|\n",
      "|   3|     Michael Johnson| 35|            Doctor| Doctor of Medicine|\n",
      "|   4|         Emily Davis| 28|Software Developer|  Bachelor's Degree|\n",
      "|   5|        David Wilson| 40|        Accountant|  Bachelor's Degree|\n",
      "|   6|           Susan Lee| 29|  Graphic Designer|  Bachelor's Degree|\n",
      "|   7|        Robert Brown| 45|            Lawyer|       Juris Doctor|\n",
      "|   8|         Sarah White| 32| Marketing Manager|  Bachelor's Degree|\n",
      "|   9|      William Taylor| 27|           Student|High School Diploma|\n",
      "|  10|        Laura Miller| 38|             Nurse|  Bachelor's Degree|\n",
      "|  11|Christopher Anderson| 31|         Architect|  Bachelor's Degree|\n",
      "|  12|       Mary Martinez| 33|        Journalist|  Bachelor's Degree|\n",
      "|  13|     James Rodriguez| 42| Financial Analyst|  Bachelor's Degree|\n",
      "|  14|  Patricia Hernandez| 26|        Pharmacist| Doctor of Pharmacy|\n",
      "|  15|      Matthew Garcia| 36|       Electrician|       Trade School|\n",
      "|  16|        Linda Walker| 29|              Chef|    Culinary School|\n",
      "|  17|         Joseph Hall| 39|    Police Officer|     Police Academy|\n",
      "|  18|         Karen Young| 34|         Librarian|    Master's Degree|\n",
      "|  19|        Daniel Lewis| 37| Real Estate Agent|  Bachelor's Degree|\n",
      "|  20|       Ashley Harris| 30|     Social Worker|    Master's Degree|\n",
      "+----+--------------------+---+------------------+-------------------+\n",
      "only showing top 20 rows\n",
      "\n"
     ]
    }
   ],
   "source": [
    "df.show()"
   ]
  },
  {
   "cell_type": "raw",
   "id": "48b331eb",
   "metadata": {},
   "source": [
    "*******************************************************************************-> Filter the DataFrame to select only the rows where age is greater than or equal to 25.\n",
    "-> Select only the \"name\" and \"age\" columns from the filtered DataFrame.\n",
    "-> Display the resulting DataFrame.\n",
    "*******************************************************************************"
   ]
  },
  {
   "cell_type": "code",
   "execution_count": 7,
   "id": "ee291e4e",
   "metadata": {},
   "outputs": [],
   "source": [
    "data_1 = df.select('Name', 'Age').\\\n",
    "filter(col('Age')>=25)"
   ]
  },
  {
   "cell_type": "code",
   "execution_count": 8,
   "id": "d9c6f231",
   "metadata": {},
   "outputs": [
    {
     "name": "stdout",
     "output_type": "stream",
     "text": [
      "+--------------------+---+\n",
      "|                Name|Age|\n",
      "+--------------------+---+\n",
      "|            John Doe| 30|\n",
      "|          Jane Smith| 25|\n",
      "|     Michael Johnson| 35|\n",
      "|         Emily Davis| 28|\n",
      "|        David Wilson| 40|\n",
      "|           Susan Lee| 29|\n",
      "|        Robert Brown| 45|\n",
      "|         Sarah White| 32|\n",
      "|      William Taylor| 27|\n",
      "|        Laura Miller| 38|\n",
      "|Christopher Anderson| 31|\n",
      "|       Mary Martinez| 33|\n",
      "|     James Rodriguez| 42|\n",
      "|  Patricia Hernandez| 26|\n",
      "|      Matthew Garcia| 36|\n",
      "|        Linda Walker| 29|\n",
      "|         Joseph Hall| 39|\n",
      "|         Karen Young| 34|\n",
      "|        Daniel Lewis| 37|\n",
      "|       Ashley Harris| 30|\n",
      "+--------------------+---+\n",
      "only showing top 20 rows\n",
      "\n"
     ]
    }
   ],
   "source": [
    "data_1.show()"
   ]
  },
  {
   "cell_type": "markdown",
   "id": "f72100f7",
   "metadata": {},
   "source": [
    "# Question 2"
   ]
  },
  {
   "cell_type": "raw",
   "id": "6ecf1509",
   "metadata": {},
   "source": [
    "*******************************************************************************\n",
    "Question 2: Aggregating Data\n",
    "Write PySpark code to perform the following tasks:\n",
    "-> Calculate the average age of all the individuals in the DataFrame.\n",
    "*******************************************************************************"
   ]
  },
  {
   "cell_type": "code",
   "execution_count": 9,
   "id": "b935c276",
   "metadata": {},
   "outputs": [],
   "source": [
    "data_2 = df.agg({'Age':'Avg'})"
   ]
  },
  {
   "cell_type": "raw",
   "id": "e24c4275",
   "metadata": {},
   "source": [
    "*******************************************************************************\n",
    "-> Calculate the maximum age in the DataFrame.\n",
    "*******************************************************************************"
   ]
  },
  {
   "cell_type": "code",
   "execution_count": 10,
   "id": "06ca09f8",
   "metadata": {},
   "outputs": [],
   "source": [
    "data_3 = df.agg({'Age':'max'})"
   ]
  },
  {
   "cell_type": "raw",
   "id": "59bb5007",
   "metadata": {},
   "source": [
    "*******************************************************************************\n",
    "-> Calculate the minimum age in the DataFrame.\n",
    "*******************************************************************************"
   ]
  },
  {
   "cell_type": "code",
   "execution_count": 11,
   "id": "6f6b0fb1",
   "metadata": {},
   "outputs": [],
   "source": [
    "data_4 = df.agg({'Age':'min'})"
   ]
  },
  {
   "cell_type": "raw",
   "id": "648cbd4a",
   "metadata": {},
   "source": [
    "*******************************************************************************\n",
    "-> Display these aggregate results.\n",
    "*******************************************************************************"
   ]
  },
  {
   "cell_type": "code",
   "execution_count": 12,
   "id": "dcb9fdb3",
   "metadata": {},
   "outputs": [
    {
     "name": "stdout",
     "output_type": "stream",
     "text": [
      "+--------+\n",
      "|avg(Age)|\n",
      "+--------+\n",
      "|   33.68|\n",
      "+--------+\n",
      "\n",
      "+--------+\n",
      "|max(Age)|\n",
      "+--------+\n",
      "|      45|\n",
      "+--------+\n",
      "\n",
      "+--------+\n",
      "|min(Age)|\n",
      "+--------+\n",
      "|      25|\n",
      "+--------+\n",
      "\n"
     ]
    }
   ],
   "source": [
    "data_2.show() ; data_3.show() ; data_4.show()"
   ]
  },
  {
   "cell_type": "markdown",
   "id": "463e2dfc",
   "metadata": {},
   "source": [
    "# Question 3"
   ]
  },
  {
   "cell_type": "raw",
   "id": "908c3a02",
   "metadata": {},
   "source": [
    "*******************************************************************************\n",
    "Question 3: Grouping and Aggregating Data\n",
    "Write PySpark code to perform the following tasks:\n",
    "-> Create a new DataFrame by adding a \"department\" column to the existing DataFrame with values \"HR\" for id 1 and 2, and \"IT\" for the rest.\n",
    "*******************************************************************************"
   ]
  },
  {
   "cell_type": "code",
   "execution_count": 13,
   "id": "19861647",
   "metadata": {},
   "outputs": [],
   "source": [
    "df2 = spark.read.format('csv').\\\n",
    "    option('inferSchema', 'true').\\\n",
    "    option('header', 'true').\\\n",
    "    option('path', 'person_datanew.csv').\\\n",
    "    load()"
   ]
  },
  {
   "cell_type": "code",
   "execution_count": 14,
   "id": "b74ef74c",
   "metadata": {},
   "outputs": [
    {
     "name": "stdout",
     "output_type": "stream",
     "text": [
      "+----+--------------------+---+------------------+-------------------+----------+\n",
      "|S.No|                Name|Age|        Occupation|          Education|department|\n",
      "+----+--------------------+---+------------------+-------------------+----------+\n",
      "|   1|            John Doe| 30|          Engineer|  Bachelor's Degree|        HR|\n",
      "|   2|          Jane Smith| 25|           Teacher|    Master's Degree|        HR|\n",
      "|   3|     Michael Johnson| 35|            Doctor| Doctor of Medicine|        IT|\n",
      "|   4|         Emily Davis| 28|Software Developer|  Bachelor's Degree|        IT|\n",
      "|   5|        David Wilson| 40|        Accountant|  Bachelor's Degree|        IT|\n",
      "|   6|           Susan Lee| 29|  Graphic Designer|  Bachelor's Degree|        IT|\n",
      "|   7|        Robert Brown| 45|            Lawyer|       Juris Doctor|        IT|\n",
      "|   8|         Sarah White| 32| Marketing Manager|  Bachelor's Degree|        IT|\n",
      "|   9|      William Taylor| 27|           Student|High School Diploma|        IT|\n",
      "|  10|        Laura Miller| 38|             Nurse|  Bachelor's Degree|        IT|\n",
      "|  11|Christopher Anderson| 31|         Architect|  Bachelor's Degree|        IT|\n",
      "|  12|       Mary Martinez| 33|        Journalist|  Bachelor's Degree|        IT|\n",
      "|  13|     James Rodriguez| 42| Financial Analyst|  Bachelor's Degree|        IT|\n",
      "|  14|  Patricia Hernandez| 26|        Pharmacist| Doctor of Pharmacy|        IT|\n",
      "|  15|      Matthew Garcia| 36|       Electrician|       Trade School|        IT|\n",
      "|  16|        Linda Walker| 29|              Chef|    Culinary School|        IT|\n",
      "|  17|         Joseph Hall| 39|    Police Officer|     Police Academy|        IT|\n",
      "|  18|         Karen Young| 34|         Librarian|    Master's Degree|        IT|\n",
      "|  19|        Daniel Lewis| 37| Real Estate Agent|  Bachelor's Degree|        IT|\n",
      "|  20|       Ashley Harris| 30|     Social Worker|    Master's Degree|        IT|\n",
      "+----+--------------------+---+------------------+-------------------+----------+\n",
      "only showing top 20 rows\n",
      "\n"
     ]
    }
   ],
   "source": [
    "df2.show()"
   ]
  },
  {
   "cell_type": "raw",
   "id": "5e9d0303",
   "metadata": {},
   "source": [
    "*******************************************************************************-> Group the new DataFrame by the \"department\" column.\n",
    "*******************************************************************************"
   ]
  },
  {
   "cell_type": "code",
   "execution_count": 15,
   "id": "1d2fcaac",
   "metadata": {},
   "outputs": [
    {
     "name": "stdout",
     "output_type": "stream",
     "text": [
      "+----------+-----+\n",
      "|Department|count|\n",
      "+----------+-----+\n",
      "|        HR|    2|\n",
      "|        IT|   23|\n",
      "+----------+-----+\n",
      "\n"
     ]
    }
   ],
   "source": [
    "df2.groupBy('Department').count().show()"
   ]
  },
  {
   "cell_type": "raw",
   "id": "a6465af9",
   "metadata": {},
   "source": [
    "*******************************************************************************-> Calculate the average age for each department.\n",
    "*******************************************************************************"
   ]
  },
  {
   "cell_type": "code",
   "execution_count": 16,
   "id": "73c17b9a",
   "metadata": {},
   "outputs": [],
   "source": [
    "data_5 = df2.groupBy('Department').mean('Age')"
   ]
  },
  {
   "cell_type": "raw",
   "id": "42783584",
   "metadata": {},
   "source": [
    "*******************************************************************************-> Display the resulting DataFrame with department and its corresponding average age.\n",
    "*******************************************************************************"
   ]
  },
  {
   "cell_type": "code",
   "execution_count": 17,
   "id": "8f6535fe",
   "metadata": {},
   "outputs": [
    {
     "name": "stdout",
     "output_type": "stream",
     "text": [
      "+----------+-----------------+\n",
      "|Department|         avg(Age)|\n",
      "+----------+-----------------+\n",
      "|        HR|             27.5|\n",
      "|        IT|34.21739130434783|\n",
      "+----------+-----------------+\n",
      "\n"
     ]
    }
   ],
   "source": [
    "data_5.show()"
   ]
  },
  {
   "cell_type": "code",
   "execution_count": null,
   "id": "fb9868ce",
   "metadata": {},
   "outputs": [],
   "source": []
  }
 ],
 "metadata": {
  "kernelspec": {
   "display_name": "Python 3 (ipykernel)",
   "language": "python",
   "name": "python3"
  },
  "language_info": {
   "codemirror_mode": {
    "name": "ipython",
    "version": 3
   },
   "file_extension": ".py",
   "mimetype": "text/x-python",
   "name": "python",
   "nbconvert_exporter": "python",
   "pygments_lexer": "ipython3",
   "version": "3.10.9"
  }
 },
 "nbformat": 4,
 "nbformat_minor": 5
}
