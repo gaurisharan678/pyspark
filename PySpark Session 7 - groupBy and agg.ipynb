{
 "cells": [
  {
   "cell_type": "code",
   "execution_count": 1,
   "id": "b6684ab6",
   "metadata": {},
   "outputs": [],
   "source": [
    "import pandas as pd"
   ]
  },
  {
   "cell_type": "code",
   "execution_count": 2,
   "id": "9398d511",
   "metadata": {},
   "outputs": [],
   "source": [
    "from pyspark.sql import SparkSession"
   ]
  },
  {
   "cell_type": "code",
   "execution_count": 3,
   "id": "8cf91370",
   "metadata": {},
   "outputs": [],
   "source": [
    "from pyspark.sql.functions import col, desc"
   ]
  },
  {
   "cell_type": "code",
   "execution_count": 4,
   "id": "dbbfc4bc",
   "metadata": {},
   "outputs": [],
   "source": [
    "spark = SparkSession.builder.appName('dataframe').getOrCreate()"
   ]
  },
  {
   "cell_type": "code",
   "execution_count": 5,
   "id": "7cd5763e",
   "metadata": {},
   "outputs": [],
   "source": [
    "data = spark.read.format('csv').\\\n",
    "    option('inferSchema', 'true').\\\n",
    "    option('header', 'true').\\\n",
    "    option('path', 'new_data.csv').\\\n",
    "    load()"
   ]
  },
  {
   "cell_type": "code",
   "execution_count": 6,
   "id": "a60e4e46",
   "metadata": {
    "scrolled": true
   },
   "outputs": [
    {
     "name": "stdout",
     "output_type": "stream",
     "text": [
      "+------+----------+------+\n",
      "|  Name|Department|Salary|\n",
      "+------+----------+------+\n",
      "|Keshav|        DS| 10000|\n",
      "|Naveen|       IOT|  5000|\n",
      "| Rahul|  Big Data|  4000|\n",
      "|Keshav|  Big Data|  4000|\n",
      "| Harry|        DS|  3000|\n",
      "| Rahul|       IOT| 20000|\n",
      "| Harry|  Big Data| 10000|\n",
      "|Keshav|       IOT|  5000|\n",
      "|Naveen|        DS| 10000|\n",
      "|Naveen|  Big Data|  2000|\n",
      "+------+----------+------+\n",
      "\n"
     ]
    }
   ],
   "source": [
    "data.show()"
   ]
  },
  {
   "cell_type": "code",
   "execution_count": 14,
   "id": "2df03efc",
   "metadata": {},
   "outputs": [
    {
     "name": "stdout",
     "output_type": "stream",
     "text": [
      "+------+-----------+\n",
      "|  Name|sum(Salary)|\n",
      "+------+-----------+\n",
      "|Keshav|      19000|\n",
      "|Naveen|      17000|\n",
      "| Rahul|      24000|\n",
      "| Harry|      13000|\n",
      "+------+-----------+\n",
      "\n"
     ]
    }
   ],
   "source": [
    "data.groupBy('Name').sum().show()"
   ]
  },
  {
   "cell_type": "code",
   "execution_count": 10,
   "id": "1ec679b1",
   "metadata": {},
   "outputs": [
    {
     "name": "stdout",
     "output_type": "stream",
     "text": [
      "+----------+-----------+\n",
      "|Department|sum(Salary)|\n",
      "+----------+-----------+\n",
      "|       IOT|      30000|\n",
      "|  Big Data|      20000|\n",
      "|        DS|      23000|\n",
      "+----------+-----------+\n",
      "\n"
     ]
    }
   ],
   "source": [
    "data.groupBy('Department').sum().show()"
   ]
  },
  {
   "cell_type": "code",
   "execution_count": 11,
   "id": "f529f08c",
   "metadata": {},
   "outputs": [
    {
     "name": "stdout",
     "output_type": "stream",
     "text": [
      "+----------+-----------------+\n",
      "|Department|      avg(Salary)|\n",
      "+----------+-----------------+\n",
      "|       IOT|          10000.0|\n",
      "|  Big Data|           5000.0|\n",
      "|        DS|7666.666666666667|\n",
      "+----------+-----------------+\n",
      "\n"
     ]
    }
   ],
   "source": [
    "data.groupBy('Department').mean().show()"
   ]
  },
  {
   "cell_type": "code",
   "execution_count": 12,
   "id": "6fc4df80",
   "metadata": {},
   "outputs": [
    {
     "name": "stdout",
     "output_type": "stream",
     "text": [
      "+----------+-----+\n",
      "|Department|count|\n",
      "+----------+-----+\n",
      "|       IOT|    3|\n",
      "|  Big Data|    4|\n",
      "|        DS|    3|\n",
      "+----------+-----+\n",
      "\n"
     ]
    }
   ],
   "source": [
    "data.groupBy('Department').count().show()"
   ]
  },
  {
   "cell_type": "code",
   "execution_count": 13,
   "id": "7a921f6a",
   "metadata": {},
   "outputs": [
    {
     "name": "stdout",
     "output_type": "stream",
     "text": [
      "+-----------+\n",
      "|sum(Salary)|\n",
      "+-----------+\n",
      "|      73000|\n",
      "+-----------+\n",
      "\n"
     ]
    }
   ],
   "source": [
    "data.agg({'Salary':'Sum'}).show()"
   ]
  },
  {
   "cell_type": "code",
   "execution_count": null,
   "id": "0f93f272",
   "metadata": {},
   "outputs": [],
   "source": []
  }
 ],
 "metadata": {
  "kernelspec": {
   "display_name": "Python 3 (ipykernel)",
   "language": "python",
   "name": "python3"
  },
  "language_info": {
   "codemirror_mode": {
    "name": "ipython",
    "version": 3
   },
   "file_extension": ".py",
   "mimetype": "text/x-python",
   "name": "python",
   "nbconvert_exporter": "python",
   "pygments_lexer": "ipython3",
   "version": "3.10.9"
  }
 },
 "nbformat": 4,
 "nbformat_minor": 5
}
