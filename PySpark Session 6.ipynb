{
 "cells": [
  {
   "cell_type": "raw",
   "id": "741a3770",
   "metadata": {},
   "source": [
    "edited test1.csv to have no null values"
   ]
  },
  {
   "cell_type": "code",
   "execution_count": 1,
   "id": "b6684ab6",
   "metadata": {},
   "outputs": [],
   "source": [
    "import pandas as pd"
   ]
  },
  {
   "cell_type": "code",
   "execution_count": 2,
   "id": "9398d511",
   "metadata": {},
   "outputs": [],
   "source": [
    "from pyspark.sql import SparkSession"
   ]
  },
  {
   "cell_type": "code",
   "execution_count": 3,
   "id": "8cf91370",
   "metadata": {},
   "outputs": [],
   "source": [
    "from pyspark.sql.functions import col, desc"
   ]
  },
  {
   "cell_type": "code",
   "execution_count": 4,
   "id": "dbbfc4bc",
   "metadata": {},
   "outputs": [],
   "source": [
    "spark = SparkSession.builder.appName('dataframe').getOrCreate()"
   ]
  },
  {
   "cell_type": "code",
   "execution_count": 5,
   "id": "7cd5763e",
   "metadata": {},
   "outputs": [],
   "source": [
    "data = spark.read.format('csv').\\\n",
    "    option('inferSchema', 'true').\\\n",
    "    option('header', 'true').\\\n",
    "    option('path', 'test2.csv').\\\n",
    "    load()"
   ]
  },
  {
   "cell_type": "code",
   "execution_count": 6,
   "id": "a4c40aae",
   "metadata": {
    "scrolled": true
   },
   "outputs": [
    {
     "name": "stdout",
     "output_type": "stream",
     "text": [
      "+----+---+--------------+------------+-------+----------+\n",
      "|Name|Age|Qualifications|  Job Title |Salary |Experience|\n",
      "+----+---+--------------+------------+-------+----------+\n",
      "|   a| 35|           mba|Asst manager| 200000|        10|\n",
      "|   b| 45|           mba|     Manager| 150000|        15|\n",
      "|   c| 27|           mca|Asst manager|  55000|         4|\n",
      "|   d| 36|            pg|Asst manager|  80000|         9|\n",
      "|   e| 33|           mca|          TL|  65000|         5|\n",
      "|   f| 32|           phd|    Director| 400000|        25|\n",
      "|   g| 34|            ma|          TL|  75000|         7|\n",
      "+----+---+--------------+------------+-------+----------+\n",
      "\n"
     ]
    }
   ],
   "source": [
    "data.show()"
   ]
  },
  {
   "cell_type": "code",
   "execution_count": 7,
   "id": "38c81bba",
   "metadata": {},
   "outputs": [
    {
     "name": "stdout",
     "output_type": "stream",
     "text": [
      "root\n",
      " |-- Name: string (nullable = true)\n",
      " |-- Age: integer (nullable = true)\n",
      " |-- Qualifications: string (nullable = true)\n",
      " |-- Job Title : string (nullable = true)\n",
      " |-- Salary : integer (nullable = true)\n",
      " |-- Experience: integer (nullable = true)\n",
      "\n"
     ]
    }
   ],
   "source": [
    "data.printSchema()"
   ]
  },
  {
   "cell_type": "code",
   "execution_count": 15,
   "id": "7ac328b0",
   "metadata": {},
   "outputs": [
    {
     "name": "stdout",
     "output_type": "stream",
     "text": [
      "+----+---+--------------+------------+-------+----------+\n",
      "|Name|Age|Qualifications|  Job Title |Salary |Experience|\n",
      "+----+---+--------------+------------+-------+----------+\n",
      "|   c| 27|           mca|Asst manager|  55000|         4|\n",
      "|   e| 33|           mca|          TL|  65000|         5|\n",
      "|   g| 34|            ma|          TL|  75000|         7|\n",
      "+----+---+--------------+------------+-------+----------+\n",
      "\n"
     ]
    }
   ],
   "source": [
    "data.filter(data['Salary '] <= 75000).show()"
   ]
  },
  {
   "cell_type": "code",
   "execution_count": 16,
   "id": "4621b879",
   "metadata": {},
   "outputs": [
    {
     "name": "stdout",
     "output_type": "stream",
     "text": [
      "+----+---+\n",
      "|Name|Age|\n",
      "+----+---+\n",
      "|   c| 27|\n",
      "|   e| 33|\n",
      "|   g| 34|\n",
      "+----+---+\n",
      "\n"
     ]
    }
   ],
   "source": [
    "data.filter(data['Salary '] <= 75000).select(['Name', 'Age']).show()"
   ]
  },
  {
   "cell_type": "code",
   "execution_count": null,
   "id": "9afdccc0",
   "metadata": {},
   "outputs": [],
   "source": []
  }
 ],
 "metadata": {
  "kernelspec": {
   "display_name": "Python 3 (ipykernel)",
   "language": "python",
   "name": "python3"
  },
  "language_info": {
   "codemirror_mode": {
    "name": "ipython",
    "version": 3
   },
   "file_extension": ".py",
   "mimetype": "text/x-python",
   "name": "python",
   "nbconvert_exporter": "python",
   "pygments_lexer": "ipython3",
   "version": "3.10.9"
  }
 },
 "nbformat": 4,
 "nbformat_minor": 5
}
