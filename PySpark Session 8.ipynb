{
 "cells": [
  {
   "cell_type": "code",
   "execution_count": 1,
   "id": "b6684ab6",
   "metadata": {},
   "outputs": [],
   "source": [
    "import pandas as pd"
   ]
  },
  {
   "cell_type": "code",
   "execution_count": 2,
   "id": "9398d511",
   "metadata": {},
   "outputs": [],
   "source": [
    "from pyspark.sql import SparkSession"
   ]
  },
  {
   "cell_type": "code",
   "execution_count": 3,
   "id": "8cf91370",
   "metadata": {},
   "outputs": [],
   "source": [
    "from pyspark.sql.functions import col, desc"
   ]
  },
  {
   "cell_type": "code",
   "execution_count": 4,
   "id": "dbbfc4bc",
   "metadata": {},
   "outputs": [],
   "source": [
    "spark = SparkSession.builder.appName('dataframe').getOrCreate()"
   ]
  },
  {
   "cell_type": "code",
   "execution_count": 7,
   "id": "7cd5763e",
   "metadata": {},
   "outputs": [],
   "source": [
    "data = spark.read.format('csv').\\\n",
    "    option('inferSchema', 'true').\\\n",
    "    option('header', 'true').\\\n",
    "    option('path', 'test1.csv').\\\n",
    "    load()"
   ]
  },
  {
   "cell_type": "code",
   "execution_count": 8,
   "id": "a60e4e46",
   "metadata": {
    "scrolled": true
   },
   "outputs": [
    {
     "name": "stdout",
     "output_type": "stream",
     "text": [
      "+----+----+--------------+------------+-------+----------+\n",
      "|Name| Age|Qualifications|  Job Title |Salary |Experience|\n",
      "+----+----+--------------+------------+-------+----------+\n",
      "|   a|  35|           mba|Asst manager| 200000|        10|\n",
      "|   b|  45|           mba|     Manager| 150000|        15|\n",
      "|   c|  27|          null|        null|  55000|         4|\n",
      "|   d|  36|            pg|        null|  80000|         9|\n",
      "|   e|  33|          null|          TL|  65000|         5|\n",
      "|   f|null|           phd|    Director| 400000|        25|\n",
      "|   g|null|            ma|          TL|  75000|         7|\n",
      "+----+----+--------------+------------+-------+----------+\n",
      "\n"
     ]
    }
   ],
   "source": [
    "data.show()"
   ]
  },
  {
   "cell_type": "code",
   "execution_count": 26,
   "id": "c136cc19",
   "metadata": {},
   "outputs": [
    {
     "name": "stdout",
     "output_type": "stream",
     "text": [
      "+----+----+--------------+------------+-------+----------+\n",
      "|Name| Age|Qualifications|  Job Title |Salary |Experience|\n",
      "+----+----+--------------+------------+-------+----------+\n",
      "|   a|  35|           mba|Asst manager| 200000|        10|\n",
      "|   b|  45|           mba|     Manager| 150000|        15|\n",
      "|   d|  36|            pg|        null|  80000|         9|\n",
      "|   f|null|           phd|    Director| 400000|        25|\n",
      "|   g|null|            ma|          TL|  75000|         7|\n",
      "+----+----+--------------+------------+-------+----------+\n",
      "\n"
     ]
    }
   ],
   "source": [
    "data.filter(data['Salary '] >= 75000).show()"
   ]
  },
  {
   "cell_type": "code",
   "execution_count": 27,
   "id": "faa0cfe5",
   "metadata": {},
   "outputs": [
    {
     "name": "stdout",
     "output_type": "stream",
     "text": [
      "+----+----+--------------+------------+-------+----------+\n",
      "|Name| Age|Qualifications|  Job Title |Salary |Experience|\n",
      "+----+----+--------------+------------+-------+----------+\n",
      "|   a|  35|           mba|Asst manager| 200000|        10|\n",
      "|   b|  45|           mba|     Manager| 150000|        15|\n",
      "|   d|  36|            pg|        null|  80000|         9|\n",
      "|   f|null|           phd|    Director| 400000|        25|\n",
      "|   g|null|            ma|          TL|  75000|         7|\n",
      "+----+----+--------------+------------+-------+----------+\n",
      "\n"
     ]
    }
   ],
   "source": [
    "data.filter(~(data['Salary '] < 75000)).show()"
   ]
  },
  {
   "cell_type": "code",
   "execution_count": 28,
   "id": "38dbe09a",
   "metadata": {},
   "outputs": [
    {
     "data": {
      "text/plain": [
       "DataFrame[summary: string, Name: string, Age: string, Qualifications: string, Job Title : string, Salary : string, Experience: string]"
      ]
     },
     "execution_count": 28,
     "metadata": {},
     "output_type": "execute_result"
    }
   ],
   "source": [
    "data.summary()"
   ]
  },
  {
   "cell_type": "code",
   "execution_count": 30,
   "id": "828507ed",
   "metadata": {},
   "outputs": [
    {
     "data": {
      "text/plain": [
       "DataFrame[summary: string, Name: string, Age: string, Qualifications: string, Job Title : string, Salary : string, Experience: string]"
      ]
     },
     "execution_count": 30,
     "metadata": {},
     "output_type": "execute_result"
    }
   ],
   "source": [
    "data.describe()"
   ]
  },
  {
   "cell_type": "code",
   "execution_count": 33,
   "id": "1037d855",
   "metadata": {},
   "outputs": [
    {
     "data": {
      "text/plain": [
       "StructType([StructField('Name', StringType(), True), StructField('Age', IntegerType(), True), StructField('Qualifications', StringType(), True), StructField('Job Title ', StringType(), True), StructField('Salary ', IntegerType(), True), StructField('Experience', IntegerType(), True)])"
      ]
     },
     "execution_count": 33,
     "metadata": {},
     "output_type": "execute_result"
    }
   ],
   "source": [
    "data.schema"
   ]
  },
  {
   "cell_type": "code",
   "execution_count": 37,
   "id": "20f723ed",
   "metadata": {},
   "outputs": [
    {
     "name": "stdout",
     "output_type": "stream",
     "text": [
      "+-------+----+-----------------+--------------+------------+------------------+------------------+\n",
      "|summary|Name|              Age|Qualifications|  Job Title |           Salary |        Experience|\n",
      "+-------+----+-----------------+--------------+------------+------------------+------------------+\n",
      "|  count|   7|                5|             5|           5|                 7|                 7|\n",
      "|   mean|null|             35.2|          null|        null|146428.57142857142|10.714285714285714|\n",
      "| stddev|null|6.496152707564686|          null|        null| 123616.1493533607| 7.273565968956485|\n",
      "|    min|   a|               27|            ma|Asst manager|             55000|                 4|\n",
      "|    25%|null|               33|          null|        null|             65000|                 5|\n",
      "|    50%|null|               35|          null|        null|             80000|                 9|\n",
      "|    75%|null|               36|          null|        null|            200000|                15|\n",
      "|    max|   g|               45|           phd|          TL|            400000|                25|\n",
      "+-------+----+-----------------+--------------+------------+------------------+------------------+\n",
      "\n"
     ]
    }
   ],
   "source": [
    "data.summary().show()"
   ]
  },
  {
   "cell_type": "code",
   "execution_count": 40,
   "id": "69f1b3e5",
   "metadata": {},
   "outputs": [
    {
     "name": "stdout",
     "output_type": "stream",
     "text": [
      "+-------+----+---+--------------+------------+-------+----------+\n",
      "|summary|Name|Age|Qualifications|  Job Title |Salary |Experience|\n",
      "+-------+----+---+--------------+------------+-------+----------+\n",
      "|  count|   7|  5|             5|           5|      7|         7|\n",
      "|    min|   a| 27|            ma|Asst manager|  55000|         4|\n",
      "|    25%|null| 33|          null|        null|  65000|         5|\n",
      "|    75%|null| 36|          null|        null| 200000|        15|\n",
      "|    max|   g| 45|           phd|          TL| 400000|        25|\n",
      "+-------+----+---+--------------+------------+-------+----------+\n",
      "\n"
     ]
    }
   ],
   "source": [
    "data.summary(\"count\", \"min\", \"25%\", \"75%\", \"max\").show()"
   ]
  },
  {
   "cell_type": "code",
   "execution_count": 41,
   "id": "24675d5f",
   "metadata": {},
   "outputs": [
    {
     "name": "stdout",
     "output_type": "stream",
     "text": [
      "+-------+----+-----------------+--------------+------------+------------------+------------------+\n",
      "|summary|Name|              Age|Qualifications|  Job Title |           Salary |        Experience|\n",
      "+-------+----+-----------------+--------------+------------+------------------+------------------+\n",
      "|  count|   7|                5|             5|           5|                 7|                 7|\n",
      "|   mean|null|             35.2|          null|        null|146428.57142857142|10.714285714285714|\n",
      "| stddev|null|6.496152707564686|          null|        null| 123616.1493533607| 7.273565968956485|\n",
      "|    min|   a|               27|            ma|Asst manager|             55000|                 4|\n",
      "|    max|   g|               45|           phd|          TL|            400000|                25|\n",
      "+-------+----+-----------------+--------------+------------+------------------+------------------+\n",
      "\n"
     ]
    }
   ],
   "source": [
    "data.describe().show()"
   ]
  },
  {
   "cell_type": "code",
   "execution_count": 68,
   "id": "6bbe8a93",
   "metadata": {},
   "outputs": [
    {
     "ename": "AnalysisException",
     "evalue": "[UNRESOLVED_COLUMN.WITH_SUGGESTION] A column or function parameter with name `min` cannot be resolved. Did you mean one of the following? [`Age`, `Name`, `Experience`, `Salary `, `Job Title `].;\n'Project ['min, 'max]\n+- Relation [Name#69,Age#70,Qualifications#71,Job Title #72,Salary #73,Experience#74] csv\n",
     "output_type": "error",
     "traceback": [
      "\u001b[1;31m---------------------------------------------------------------------------\u001b[0m",
      "\u001b[1;31mAnalysisException\u001b[0m                         Traceback (most recent call last)",
      "Cell \u001b[1;32mIn[68], line 1\u001b[0m\n\u001b[1;32m----> 1\u001b[0m \u001b[43mdata\u001b[49m\u001b[38;5;241;43m.\u001b[39;49m\u001b[43mdescribe\u001b[49m\u001b[43m(\u001b[49m\u001b[38;5;124;43m\"\u001b[39;49m\u001b[38;5;124;43mmin\u001b[39;49m\u001b[38;5;124;43m\"\u001b[39;49m\u001b[43m,\u001b[49m\u001b[43m \u001b[49m\u001b[38;5;124;43m\"\u001b[39;49m\u001b[38;5;124;43mmax\u001b[39;49m\u001b[38;5;124;43m\"\u001b[39;49m\u001b[43m)\u001b[49m\u001b[38;5;241m.\u001b[39mshow()\n",
      "File \u001b[1;32m~\\AppData\\Local\\anaconda3\\lib\\site-packages\\pyspark\\sql\\dataframe.py:2704\u001b[0m, in \u001b[0;36mDataFrame.describe\u001b[1;34m(self, *cols)\u001b[0m\n\u001b[0;32m   2702\u001b[0m \u001b[38;5;28;01mif\u001b[39;00m \u001b[38;5;28mlen\u001b[39m(cols) \u001b[38;5;241m==\u001b[39m \u001b[38;5;241m1\u001b[39m \u001b[38;5;129;01mand\u001b[39;00m \u001b[38;5;28misinstance\u001b[39m(cols[\u001b[38;5;241m0\u001b[39m], \u001b[38;5;28mlist\u001b[39m):\n\u001b[0;32m   2703\u001b[0m     cols \u001b[38;5;241m=\u001b[39m cols[\u001b[38;5;241m0\u001b[39m]  \u001b[38;5;66;03m# type: ignore[assignment]\u001b[39;00m\n\u001b[1;32m-> 2704\u001b[0m jdf \u001b[38;5;241m=\u001b[39m \u001b[38;5;28;43mself\u001b[39;49m\u001b[38;5;241;43m.\u001b[39;49m\u001b[43m_jdf\u001b[49m\u001b[38;5;241;43m.\u001b[39;49m\u001b[43mdescribe\u001b[49m\u001b[43m(\u001b[49m\u001b[38;5;28;43mself\u001b[39;49m\u001b[38;5;241;43m.\u001b[39;49m\u001b[43m_jseq\u001b[49m\u001b[43m(\u001b[49m\u001b[43mcols\u001b[49m\u001b[43m)\u001b[49m\u001b[43m)\u001b[49m\n\u001b[0;32m   2705\u001b[0m \u001b[38;5;28;01mreturn\u001b[39;00m DataFrame(jdf, \u001b[38;5;28mself\u001b[39m\u001b[38;5;241m.\u001b[39msparkSession)\n",
      "File \u001b[1;32m~\\AppData\\Local\\anaconda3\\lib\\site-packages\\py4j\\java_gateway.py:1322\u001b[0m, in \u001b[0;36mJavaMember.__call__\u001b[1;34m(self, *args)\u001b[0m\n\u001b[0;32m   1316\u001b[0m command \u001b[38;5;241m=\u001b[39m proto\u001b[38;5;241m.\u001b[39mCALL_COMMAND_NAME \u001b[38;5;241m+\u001b[39m\\\n\u001b[0;32m   1317\u001b[0m     \u001b[38;5;28mself\u001b[39m\u001b[38;5;241m.\u001b[39mcommand_header \u001b[38;5;241m+\u001b[39m\\\n\u001b[0;32m   1318\u001b[0m     args_command \u001b[38;5;241m+\u001b[39m\\\n\u001b[0;32m   1319\u001b[0m     proto\u001b[38;5;241m.\u001b[39mEND_COMMAND_PART\n\u001b[0;32m   1321\u001b[0m answer \u001b[38;5;241m=\u001b[39m \u001b[38;5;28mself\u001b[39m\u001b[38;5;241m.\u001b[39mgateway_client\u001b[38;5;241m.\u001b[39msend_command(command)\n\u001b[1;32m-> 1322\u001b[0m return_value \u001b[38;5;241m=\u001b[39m \u001b[43mget_return_value\u001b[49m\u001b[43m(\u001b[49m\n\u001b[0;32m   1323\u001b[0m \u001b[43m    \u001b[49m\u001b[43manswer\u001b[49m\u001b[43m,\u001b[49m\u001b[43m \u001b[49m\u001b[38;5;28;43mself\u001b[39;49m\u001b[38;5;241;43m.\u001b[39;49m\u001b[43mgateway_client\u001b[49m\u001b[43m,\u001b[49m\u001b[43m \u001b[49m\u001b[38;5;28;43mself\u001b[39;49m\u001b[38;5;241;43m.\u001b[39;49m\u001b[43mtarget_id\u001b[49m\u001b[43m,\u001b[49m\u001b[43m \u001b[49m\u001b[38;5;28;43mself\u001b[39;49m\u001b[38;5;241;43m.\u001b[39;49m\u001b[43mname\u001b[49m\u001b[43m)\u001b[49m\n\u001b[0;32m   1325\u001b[0m \u001b[38;5;28;01mfor\u001b[39;00m temp_arg \u001b[38;5;129;01min\u001b[39;00m temp_args:\n\u001b[0;32m   1326\u001b[0m     \u001b[38;5;28;01mif\u001b[39;00m \u001b[38;5;28mhasattr\u001b[39m(temp_arg, \u001b[38;5;124m\"\u001b[39m\u001b[38;5;124m_detach\u001b[39m\u001b[38;5;124m\"\u001b[39m):\n",
      "File \u001b[1;32m~\\AppData\\Local\\anaconda3\\lib\\site-packages\\pyspark\\errors\\exceptions\\captured.py:175\u001b[0m, in \u001b[0;36mcapture_sql_exception.<locals>.deco\u001b[1;34m(*a, **kw)\u001b[0m\n\u001b[0;32m    171\u001b[0m converted \u001b[38;5;241m=\u001b[39m convert_exception(e\u001b[38;5;241m.\u001b[39mjava_exception)\n\u001b[0;32m    172\u001b[0m \u001b[38;5;28;01mif\u001b[39;00m \u001b[38;5;129;01mnot\u001b[39;00m \u001b[38;5;28misinstance\u001b[39m(converted, UnknownException):\n\u001b[0;32m    173\u001b[0m     \u001b[38;5;66;03m# Hide where the exception came from that shows a non-Pythonic\u001b[39;00m\n\u001b[0;32m    174\u001b[0m     \u001b[38;5;66;03m# JVM exception message.\u001b[39;00m\n\u001b[1;32m--> 175\u001b[0m     \u001b[38;5;28;01mraise\u001b[39;00m converted \u001b[38;5;28;01mfrom\u001b[39;00m \u001b[38;5;28mNone\u001b[39m\n\u001b[0;32m    176\u001b[0m \u001b[38;5;28;01melse\u001b[39;00m:\n\u001b[0;32m    177\u001b[0m     \u001b[38;5;28;01mraise\u001b[39;00m\n",
      "\u001b[1;31mAnalysisException\u001b[0m: [UNRESOLVED_COLUMN.WITH_SUGGESTION] A column or function parameter with name `min` cannot be resolved. Did you mean one of the following? [`Age`, `Name`, `Experience`, `Salary `, `Job Title `].;\n'Project ['min, 'max]\n+- Relation [Name#69,Age#70,Qualifications#71,Job Title #72,Salary #73,Experience#74] csv\n"
     ]
    }
   ],
   "source": [
    "data.describe(\"min\", \"max\").show()"
   ]
  },
  {
   "cell_type": "code",
   "execution_count": 54,
   "id": "5cadd3b5",
   "metadata": {},
   "outputs": [
    {
     "ename": "TypeError",
     "evalue": "DataFrame.count() takes 1 positional argument but 2 were given",
     "output_type": "error",
     "traceback": [
      "\u001b[1;31m---------------------------------------------------------------------------\u001b[0m",
      "\u001b[1;31mTypeError\u001b[0m                                 Traceback (most recent call last)",
      "Cell \u001b[1;32mIn[54], line 1\u001b[0m\n\u001b[1;32m----> 1\u001b[0m \u001b[43mdata\u001b[49m\u001b[38;5;241;43m.\u001b[39;49m\u001b[43mcount\u001b[49m\u001b[43m(\u001b[49m\u001b[43mdata\u001b[49m\u001b[43m[\u001b[49m\u001b[38;5;124;43m'\u001b[39;49m\u001b[38;5;124;43mAge\u001b[39;49m\u001b[38;5;124;43m'\u001b[39;49m\u001b[43m]\u001b[49m\u001b[43m \u001b[49m\u001b[38;5;241;43m>\u001b[39;49m\u001b[43m \u001b[49m\u001b[38;5;241;43m30\u001b[39;49m\u001b[43m)\u001b[49m\u001b[38;5;241m.\u001b[39mselect([\u001b[38;5;124m'\u001b[39m\u001b[38;5;124mName\u001b[39m\u001b[38;5;124m'\u001b[39m, \u001b[38;5;124m'\u001b[39m\u001b[38;5;124mAge\u001b[39m\u001b[38;5;124m'\u001b[39m])\u001b[38;5;241m.\u001b[39mshow()\n",
      "\u001b[1;31mTypeError\u001b[0m: DataFrame.count() takes 1 positional argument but 2 were given"
     ]
    }
   ],
   "source": [
    "data.count(data['Age'] > 30).select(['Name', 'Age']).show()"
   ]
  },
  {
   "cell_type": "code",
   "execution_count": 61,
   "id": "63180bf2",
   "metadata": {},
   "outputs": [
    {
     "name": "stdout",
     "output_type": "stream",
     "text": [
      "+-------+----+---+--------------+----------+-------+----------+\n",
      "|summary|Name|Age|Qualifications|Job Title |Salary |Experience|\n",
      "+-------+----+---+--------------+----------+-------+----------+\n",
      "|  count|   4|  4|             3|         3|      4|         4|\n",
      "+-------+----+---+--------------+----------+-------+----------+\n",
      "\n"
     ]
    }
   ],
   "source": [
    "data.filter(data['Age'] > 30).summary('count').show()"
   ]
  },
  {
   "cell_type": "code",
   "execution_count": 67,
   "id": "cfa1c036",
   "metadata": {
    "scrolled": true
   },
   "outputs": [
    {
     "name": "stdout",
     "output_type": "stream",
     "text": [
      "+-------+----+---+--------------+----------+-------+----------+\n",
      "|summary|Name|Age|Qualifications|Job Title |Salary |Experience|\n",
      "+-------+----+---+--------------+----------+-------+----------+\n",
      "|  count|   4|  4|             3|         3|      4|         4|\n",
      "|    50%|null| 35|          null|      null|  80000|         9|\n",
      "+-------+----+---+--------------+----------+-------+----------+\n",
      "\n"
     ]
    }
   ],
   "source": [
    "data.filter(data['Age'] > 30).summary('count', '50%').show()\n",
    "#median"
   ]
  },
  {
   "cell_type": "code",
   "execution_count": 69,
   "id": "f989f046",
   "metadata": {},
   "outputs": [
    {
     "name": "stdout",
     "output_type": "stream",
     "text": [
      "+-------+----+-----+--------------+----------+--------+----------+\n",
      "|summary|Name|  Age|Qualifications|Job Title | Salary |Experience|\n",
      "+-------+----+-----+--------------+----------+--------+----------+\n",
      "|   mean|null|37.25|          null|      null|123750.0|      9.75|\n",
      "+-------+----+-----+--------------+----------+--------+----------+\n",
      "\n"
     ]
    }
   ],
   "source": [
    "data.filter(data['Age'] > 30).summary('mean').show()"
   ]
  },
  {
   "cell_type": "code",
   "execution_count": 79,
   "id": "98d49c63",
   "metadata": {},
   "outputs": [
    {
     "data": {
      "text/plain": [
       "Row(Age=None, count=2)"
      ]
     },
     "execution_count": 79,
     "metadata": {},
     "output_type": "execute_result"
    }
   ],
   "source": [
    "data.groupBy(\"Age\").count().orderBy(\"count\", ascending=False).first()"
   ]
  },
  {
   "cell_type": "code",
   "execution_count": null,
   "id": "1bfd2f31",
   "metadata": {},
   "outputs": [],
   "source": []
  }
 ],
 "metadata": {
  "kernelspec": {
   "display_name": "Python 3 (ipykernel)",
   "language": "python",
   "name": "python3"
  },
  "language_info": {
   "codemirror_mode": {
    "name": "ipython",
    "version": 3
   },
   "file_extension": ".py",
   "mimetype": "text/x-python",
   "name": "python",
   "nbconvert_exporter": "python",
   "pygments_lexer": "ipython3",
   "version": "3.10.9"
  }
 },
 "nbformat": 4,
 "nbformat_minor": 5
}
