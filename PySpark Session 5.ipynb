{
 "cells": [
  {
   "cell_type": "raw",
   "id": "741a3770",
   "metadata": {},
   "source": [
    "Working in dataframes with missing values"
   ]
  },
  {
   "cell_type": "code",
   "execution_count": 1,
   "id": "b6684ab6",
   "metadata": {},
   "outputs": [],
   "source": [
    "import pandas as pd"
   ]
  },
  {
   "cell_type": "code",
   "execution_count": 2,
   "id": "9398d511",
   "metadata": {},
   "outputs": [],
   "source": [
    "from pyspark.sql import SparkSession"
   ]
  },
  {
   "cell_type": "code",
   "execution_count": 3,
   "id": "8cf91370",
   "metadata": {},
   "outputs": [],
   "source": [
    "from pyspark.sql.functions import col, desc"
   ]
  },
  {
   "cell_type": "code",
   "execution_count": 4,
   "id": "dbbfc4bc",
   "metadata": {},
   "outputs": [],
   "source": [
    "spark = SparkSession.builder.appName('dataframe').getOrCreate()"
   ]
  },
  {
   "cell_type": "code",
   "execution_count": 5,
   "id": "7cd5763e",
   "metadata": {},
   "outputs": [],
   "source": [
    "data = spark.read.format('csv').\\\n",
    "    option('inferSchema', 'true').\\\n",
    "    option('header', 'true').\\\n",
    "    option('path', 'test1.csv').\\\n",
    "    load()"
   ]
  },
  {
   "cell_type": "code",
   "execution_count": 6,
   "id": "ed85ea63",
   "metadata": {},
   "outputs": [
    {
     "name": "stdout",
     "output_type": "stream",
     "text": [
      "root\n",
      " |-- Name: string (nullable = true)\n",
      " |-- Age: integer (nullable = true)\n",
      " |-- Qualifications: string (nullable = true)\n",
      " |-- Job Title : string (nullable = true)\n",
      " |-- Salary : integer (nullable = true)\n",
      " |-- Experience: integer (nullable = true)\n",
      "\n"
     ]
    }
   ],
   "source": [
    "data.printSchema()"
   ]
  },
  {
   "cell_type": "code",
   "execution_count": 7,
   "id": "a4c40aae",
   "metadata": {
    "scrolled": true
   },
   "outputs": [
    {
     "name": "stdout",
     "output_type": "stream",
     "text": [
      "+----+----+--------------+------------+-------+----------+\n",
      "|Name| Age|Qualifications|  Job Title |Salary |Experience|\n",
      "+----+----+--------------+------------+-------+----------+\n",
      "|   a|  35|           mba|Asst manager| 200000|        10|\n",
      "|   b|  45|           mba|     Manager| 150000|        15|\n",
      "|   c|  27|          null|        null|  55000|         4|\n",
      "|   d|  36|            pg|        null|  80000|         9|\n",
      "|   e|  33|          null|          TL|  65000|         5|\n",
      "|   f|null|           phd|    Director| 400000|        25|\n",
      "|   g|null|            ma|          TL|  75000|         7|\n",
      "+----+----+--------------+------------+-------+----------+\n",
      "\n"
     ]
    }
   ],
   "source": [
    "data.show()"
   ]
  },
  {
   "cell_type": "code",
   "execution_count": 8,
   "id": "a50d5196",
   "metadata": {},
   "outputs": [
    {
     "name": "stdout",
     "output_type": "stream",
     "text": [
      "+----+--------------+------------+-------+----------+\n",
      "|Name|Qualifications|  Job Title |Salary |Experience|\n",
      "+----+--------------+------------+-------+----------+\n",
      "|   a|           mba|Asst manager| 200000|        10|\n",
      "|   b|           mba|     Manager| 150000|        15|\n",
      "|   c|          null|        null|  55000|         4|\n",
      "|   d|            pg|        null|  80000|         9|\n",
      "|   e|          null|          TL|  65000|         5|\n",
      "|   f|           phd|    Director| 400000|        25|\n",
      "|   g|            ma|          TL|  75000|         7|\n",
      "+----+--------------+------------+-------+----------+\n",
      "\n"
     ]
    }
   ],
   "source": [
    "#deleting a column\n",
    "data.drop('Age').show()"
   ]
  },
  {
   "cell_type": "code",
   "execution_count": 9,
   "id": "655ff714",
   "metadata": {},
   "outputs": [
    {
     "name": "stdout",
     "output_type": "stream",
     "text": [
      "+----+---+--------------+------------+-------+----------+\n",
      "|Name|Age|Qualifications|  Job Title |Salary |Experience|\n",
      "+----+---+--------------+------------+-------+----------+\n",
      "|   a| 35|           mba|Asst manager| 200000|        10|\n",
      "|   b| 45|           mba|     Manager| 150000|        15|\n",
      "+----+---+--------------+------------+-------+----------+\n",
      "\n"
     ]
    }
   ],
   "source": [
    "#deletes rows which have atleast one null value(s)\n",
    "data.na.drop().show()"
   ]
  },
  {
   "cell_type": "code",
   "execution_count": 10,
   "id": "0a9941e1",
   "metadata": {
    "scrolled": true
   },
   "outputs": [
    {
     "name": "stdout",
     "output_type": "stream",
     "text": [
      "+----+----+--------------+------------+-------+----------+\n",
      "|Name| Age|Qualifications|  Job Title |Salary |Experience|\n",
      "+----+----+--------------+------------+-------+----------+\n",
      "|   a|  35|           mba|Asst manager| 200000|        10|\n",
      "|   b|  45|           mba|     Manager| 150000|        15|\n",
      "|   c|  27|          null|        null|  55000|         4|\n",
      "|   d|  36|            pg|        null|  80000|         9|\n",
      "|   e|  33|          null|          TL|  65000|         5|\n",
      "|   f|null|           phd|    Director| 400000|        25|\n",
      "|   g|null|            ma|          TL|  75000|         7|\n",
      "+----+----+--------------+------------+-------+----------+\n",
      "\n"
     ]
    }
   ],
   "source": [
    "#default how == 'any'\n",
    "data.na.drop(how='all').show()\n",
    "#deletes rows which have ALL null values"
   ]
  },
  {
   "cell_type": "code",
   "execution_count": 11,
   "id": "551d57a6",
   "metadata": {},
   "outputs": [
    {
     "name": "stdout",
     "output_type": "stream",
     "text": [
      "+----+----+--------------+------------+-------+----------+\n",
      "|Name| Age|Qualifications|  Job Title |Salary |Experience|\n",
      "+----+----+--------------+------------+-------+----------+\n",
      "|   a|  35|           mba|Asst manager| 200000|        10|\n",
      "|   b|  45|           mba|     Manager| 150000|        15|\n",
      "|   d|  36|            pg|        null|  80000|         9|\n",
      "|   e|  33|          null|          TL|  65000|         5|\n",
      "|   f|null|           phd|    Director| 400000|        25|\n",
      "|   g|null|            ma|          TL|  75000|         7|\n",
      "+----+----+--------------+------------+-------+----------+\n",
      "\n"
     ]
    }
   ],
   "source": [
    "data.na.drop(how='any', thresh = 5).show()\n",
    "#thresh - limit of NON-NULL values values in a row.\n",
    "#if thresh = 5 then delete rows which have (1,2,3 or 4) non-null values.\n",
    "#'c' row had 4 non-null values, hence that row gets deleted here."
   ]
  },
  {
   "cell_type": "code",
   "execution_count": 12,
   "id": "f8ed322f",
   "metadata": {},
   "outputs": [
    {
     "name": "stdout",
     "output_type": "stream",
     "text": [
      "+----+---+--------------+------------+-------+----------+\n",
      "|Name|Age|Qualifications|  Job Title |Salary |Experience|\n",
      "+----+---+--------------+------------+-------+----------+\n",
      "|   a| 35|           mba|Asst manager| 200000|        10|\n",
      "|   b| 45|           mba|     Manager| 150000|        15|\n",
      "+----+---+--------------+------------+-------+----------+\n",
      "\n"
     ]
    }
   ],
   "source": [
    "data.na.drop(how='any', thresh = 6).show()\n",
    "#if thresh = 5 then delete rows which have (1,2,3,4,5) non-null values.\n",
    "#rows d, e, f, g have 5 non-null values, hence these rows get deleted."
   ]
  },
  {
   "cell_type": "code",
   "execution_count": 13,
   "id": "37d83949",
   "metadata": {},
   "outputs": [
    {
     "name": "stdout",
     "output_type": "stream",
     "text": [
      "+----+---+--------------+----------+-------+----------+\n",
      "|Name|Age|Qualifications|Job Title |Salary |Experience|\n",
      "+----+---+--------------+----------+-------+----------+\n",
      "+----+---+--------------+----------+-------+----------+\n",
      "\n"
     ]
    }
   ],
   "source": [
    "data.na.drop(thresh = 7).show()\n",
    "#if thresh = 5 then delete rows which have atmost 7-1=6 non-null values.\n",
    "#rows a,b have 6 non-null values, hence these rows get deleted."
   ]
  },
  {
   "cell_type": "code",
   "execution_count": 14,
   "id": "1e446470",
   "metadata": {},
   "outputs": [
    {
     "name": "stdout",
     "output_type": "stream",
     "text": [
      "+----+---+--------------+------------+-------+----------+\n",
      "|Name|Age|Qualifications|  Job Title |Salary |Experience|\n",
      "+----+---+--------------+------------+-------+----------+\n",
      "|   a| 35|           mba|Asst manager| 200000|        10|\n",
      "|   b| 45|           mba|     Manager| 150000|        15|\n",
      "|   c| 27|          null|        null|  55000|         4|\n",
      "|   d| 36|            pg|        null|  80000|         9|\n",
      "|   e| 33|          null|          TL|  65000|         5|\n",
      "+----+---+--------------+------------+-------+----------+\n",
      "\n"
     ]
    }
   ],
   "source": [
    "data.na.drop(subset = ['Age']).show()\n",
    "#removes rows with null values for a particular column"
   ]
  },
  {
   "cell_type": "code",
   "execution_count": 15,
   "id": "cb78ab0d",
   "metadata": {},
   "outputs": [
    {
     "name": "stdout",
     "output_type": "stream",
     "text": [
      "+----+----+--------------+------------+-------+----------+\n",
      "|Name| Age|Qualifications|  Job Title |Salary |Experience|\n",
      "+----+----+--------------+------------+-------+----------+\n",
      "|   a|  35|           mba|Asst manager| 200000|        10|\n",
      "|   b|  45|           mba|     Manager| 150000|        15|\n",
      "|   e|  33|          null|          TL|  65000|         5|\n",
      "|   f|null|           phd|    Director| 400000|        25|\n",
      "|   g|null|            ma|          TL|  75000|         7|\n",
      "+----+----+--------------+------------+-------+----------+\n",
      "\n"
     ]
    }
   ],
   "source": [
    "data.na.drop(subset = ['Job Title ']).show()"
   ]
  },
  {
   "cell_type": "code",
   "execution_count": 16,
   "id": "c3989320",
   "metadata": {},
   "outputs": [
    {
     "name": "stdout",
     "output_type": "stream",
     "text": [
      "+----+----+--------------+-------------+-------+----------+\n",
      "|Name| Age|Qualifications|   Job Title |Salary |Experience|\n",
      "+----+----+--------------+-------------+-------+----------+\n",
      "|   a|  35|           mba| Asst manager| 200000|        10|\n",
      "|   b|  45|           mba|      Manager| 150000|        15|\n",
      "|   c|  27| Missing Value|Missing Value|  55000|         4|\n",
      "|   d|  36|            pg|Missing Value|  80000|         9|\n",
      "|   e|  33| Missing Value|           TL|  65000|         5|\n",
      "|   f|null|           phd|     Director| 400000|        25|\n",
      "|   g|null|            ma|           TL|  75000|         7|\n",
      "+----+----+--------------+-------------+-------+----------+\n",
      "\n"
     ]
    }
   ],
   "source": [
    "data.na.fill('Missing Value').show()\n",
    "#replaces null values in string places"
   ]
  },
  {
   "cell_type": "code",
   "execution_count": 17,
   "id": "47182864",
   "metadata": {},
   "outputs": [
    {
     "name": "stdout",
     "output_type": "stream",
     "text": [
      "+----+----+--------------+-------------+-------+----------+\n",
      "|Name| Age|Qualifications|   Job Title |Salary |Experience|\n",
      "+----+----+--------------+-------------+-------+----------+\n",
      "|   a|  35|           mba| Asst manager| 200000|        10|\n",
      "|   b|  45|           mba|      Manager| 150000|        15|\n",
      "|   c|  27|          null|Missing Value|  55000|         4|\n",
      "|   d|  36|            pg|Missing Value|  80000|         9|\n",
      "|   e|  33|          null|           TL|  65000|         5|\n",
      "|   f|null|           phd|     Director| 400000|        25|\n",
      "|   g|null|            ma|           TL|  75000|         7|\n",
      "+----+----+--------------+-------------+-------+----------+\n",
      "\n"
     ]
    }
   ],
   "source": [
    "data.na.fill('Missing Value', 'Job Title ').show()\n",
    "#fills null values in specified column"
   ]
  },
  {
   "cell_type": "raw",
   "id": "47445c60",
   "metadata": {},
   "source": [
    "FILLING NULL VALUES WITH AVERAGES (INT/FLOAT)\n",
    "\n",
    "pyspark.ml.feature -> library of pyspark that provides various transformer/transformation ...\n",
    "\n",
    "Imputer -> class in pyspark.ml.feature specifically used for imputting missing values\n",
    "\n",
    ".setStrategy('funcName') -> specify how the missing values are to be found (eg-mean, median etc.)\n",
    "\n",
    "inputCols -> column names containing missing values that are to be inputted\n",
    "\n",
    "outputCols -> specifics list of column names to be used for resulting impute values"
   ]
  },
  {
   "cell_type": "code",
   "execution_count": 18,
   "id": "258e82cf",
   "metadata": {},
   "outputs": [],
   "source": [
    "from pyspark.ml.feature import Imputer"
   ]
  },
  {
   "cell_type": "code",
   "execution_count": 19,
   "id": "b921fa6a",
   "metadata": {},
   "outputs": [],
   "source": [
    "impute = Imputer(inputCols = ['Age'], \n",
    "                 outputCols = [\"{}_imputed\".format(c) for c in ['Age']]).setStrategy('mean')"
   ]
  },
  {
   "cell_type": "code",
   "execution_count": 21,
   "id": "df1b5b6a",
   "metadata": {},
   "outputs": [
    {
     "name": "stdout",
     "output_type": "stream",
     "text": [
      "+----+----+--------------+------------+-------+----------+-----------+\n",
      "|Name| Age|Qualifications|  Job Title |Salary |Experience|Age_imputed|\n",
      "+----+----+--------------+------------+-------+----------+-----------+\n",
      "|   a|  35|           mba|Asst manager| 200000|        10|         35|\n",
      "|   b|  45|           mba|     Manager| 150000|        15|         45|\n",
      "|   c|  27|          null|        null|  55000|         4|         27|\n",
      "|   d|  36|            pg|        null|  80000|         9|         36|\n",
      "|   e|  33|          null|          TL|  65000|         5|         33|\n",
      "|   f|null|           phd|    Director| 400000|        25|         35|\n",
      "|   g|null|            ma|          TL|  75000|         7|         35|\n",
      "+----+----+--------------+------------+-------+----------+-----------+\n",
      "\n"
     ]
    }
   ],
   "source": [
    "impute.fit(data).transform(data).show()"
   ]
  },
  {
   "cell_type": "code",
   "execution_count": null,
   "id": "e9425104",
   "metadata": {},
   "outputs": [],
   "source": []
  }
 ],
 "metadata": {
  "kernelspec": {
   "display_name": "Python 3 (ipykernel)",
   "language": "python",
   "name": "python3"
  },
  "language_info": {
   "codemirror_mode": {
    "name": "ipython",
    "version": 3
   },
   "file_extension": ".py",
   "mimetype": "text/x-python",
   "name": "python",
   "nbconvert_exporter": "python",
   "pygments_lexer": "ipython3",
   "version": "3.10.9"
  }
 },
 "nbformat": 4,
 "nbformat_minor": 5
}
